{
  "nbformat": 4,
  "nbformat_minor": 0,
  "metadata": {
    "colab": {
      "name": "Machine Learning.ipynb",
      "provenance": [],
      "collapsed_sections": [],
      "authorship_tag": "ABX9TyPRamvJlUWKZXH4ct8ME0Ub",
      "include_colab_link": true
    },
    "kernelspec": {
      "name": "python3",
      "display_name": "Python 3"
    }
  },
  "cells": [
    {
      "cell_type": "markdown",
      "metadata": {
        "id": "view-in-github",
        "colab_type": "text"
      },
      "source": [
        "<a href=\"https://colab.research.google.com/github/MirzaAlbab/Machine-Learning/blob/main/Machine_Learning1.ipynb\" target=\"_parent\"><img src=\"https://colab.research.google.com/assets/colab-badge.svg\" alt=\"Open In Colab\"/></a>"
      ]
    },
    {
      "cell_type": "code",
      "metadata": {
        "id": "LSo7XXcK1pTi"
      },
      "source": [
        "from sklearn import datasets\r\n",
        "iris = datasets.load_iris()\r\n",
        "digits = datasets.load_digits()"
      ],
      "execution_count": 1,
      "outputs": []
    },
    {
      "cell_type": "code",
      "metadata": {
        "colab": {
          "base_uri": "https://localhost:8080/"
        },
        "id": "u2RgocLk2CZQ",
        "outputId": "bad17c0d-381e-46a6-ef40-213932411fe9"
      },
      "source": [
        "print(digits.data)"
      ],
      "execution_count": 2,
      "outputs": [
        {
          "output_type": "stream",
          "text": [
            "[[ 0.  0.  5. ...  0.  0.  0.]\n",
            " [ 0.  0.  0. ... 10.  0.  0.]\n",
            " [ 0.  0.  0. ... 16.  9.  0.]\n",
            " ...\n",
            " [ 0.  0.  1. ...  6.  0.  0.]\n",
            " [ 0.  0.  2. ... 12.  0.  0.]\n",
            " [ 0.  0. 10. ... 12.  1.  0.]]\n"
          ],
          "name": "stdout"
        }
      ]
    },
    {
      "cell_type": "code",
      "metadata": {
        "colab": {
          "base_uri": "https://localhost:8080/"
        },
        "id": "Zqhw6Ap52GP1",
        "outputId": "017dbf82-9051-4e04-bedf-36667c1e51ee"
      },
      "source": [
        "digits.target"
      ],
      "execution_count": 3,
      "outputs": [
        {
          "output_type": "execute_result",
          "data": {
            "text/plain": [
              "array([0, 1, 2, ..., 8, 9, 8])"
            ]
          },
          "metadata": {
            "tags": []
          },
          "execution_count": 3
        }
      ]
    },
    {
      "cell_type": "code",
      "metadata": {
        "colab": {
          "base_uri": "https://localhost:8080/"
        },
        "id": "OIc9DR872Khc",
        "outputId": "db41a400-6ce8-486f-89fd-dacbbaef4508"
      },
      "source": [
        "digits.images[0]"
      ],
      "execution_count": 4,
      "outputs": [
        {
          "output_type": "execute_result",
          "data": {
            "text/plain": [
              "array([[ 0.,  0.,  5., 13.,  9.,  1.,  0.,  0.],\n",
              "       [ 0.,  0., 13., 15., 10., 15.,  5.,  0.],\n",
              "       [ 0.,  3., 15.,  2.,  0., 11.,  8.,  0.],\n",
              "       [ 0.,  4., 12.,  0.,  0.,  8.,  8.,  0.],\n",
              "       [ 0.,  5.,  8.,  0.,  0.,  9.,  8.,  0.],\n",
              "       [ 0.,  4., 11.,  0.,  1., 12.,  7.,  0.],\n",
              "       [ 0.,  2., 14.,  5., 10., 12.,  0.,  0.],\n",
              "       [ 0.,  0.,  6., 13., 10.,  0.,  0.,  0.]])"
            ]
          },
          "metadata": {
            "tags": []
          },
          "execution_count": 4
        }
      ]
    },
    {
      "cell_type": "code",
      "metadata": {
        "id": "ElGH_TJZ2NBS"
      },
      "source": [
        "from sklearn import svm\r\n",
        "import matplotlib.pyplot as plt\r\n"
      ],
      "execution_count": 8,
      "outputs": []
    },
    {
      "cell_type": "code",
      "metadata": {
        "colab": {
          "base_uri": "https://localhost:8080/",
          "height": 228
        },
        "id": "e_D23vxm2Yce",
        "outputId": "04a7471a-033f-48fe-a2d2-842e4b02880b"
      },
      "source": [
        "clf = svm.SVC(gamma=0.001, C=100.)\r\n",
        "clf.fit(digits.data[:-1], digits.target[:-1])\r\n",
        "predict = clf.predict(digits.data[-1:])\r\n",
        "\r\n",
        "plt.figure(predict[0], figsize=(3,3))\r\n",
        "plt.imshow(digits.images[-1],cmap=plt.cm.gray_r,interpolation='nearest')\r\n",
        "plt.show()\r\n",
        "\r\n",
        "print(f\"predicted number : {predict}\")"
      ],
      "execution_count": 16,
      "outputs": [
        {
          "output_type": "display_data",
          "data": {
            "image/png": "[encoded data removed]",
            "text/plain": [
              "<Figure size 216x216 with 1 Axes>"
            ]
          },
          "metadata": {
            "tags": [],
            "needs_background": "light"
          }
        },
        {
          "output_type": "stream",
          "text": [
            "predicted number : [8]\n"
          ],
          "name": "stdout"
        }
      ]
    },
    {
      "cell_type": "code",
      "metadata": {
        "colab": {
          "base_uri": "https://localhost:8080/"
        },
        "id": "28a91efN2fwo",
        "outputId": "bfe959e0-ba30-4af7-e4b2-5d0165d9b3e1"
      },
      "source": [
        "import numpy as np\r\n",
        "from sklearn import random_projection\r\n",
        "\r\n",
        "rng = np.random.RandomState(0)\r\n",
        "X = rng.rand(10, 2000)\r\n",
        "X = np.array(X, dtype='float32')\r\n",
        "print(f\"Before : {X.dtype}\")\r\n",
        "\r\n",
        "\r\n",
        "transformer = random_projection.GaussianRandomProjection()\r\n",
        "X_new = transformer.fit_transform(X)\r\n",
        "print(f\"After : {X_new.dtype}\")\r\n"
      ],
      "execution_count": 18,
      "outputs": [
        {
          "output_type": "stream",
          "text": [
            "Before : float32\n",
            "After : float64\n"
          ],
          "name": "stdout"
        }
      ]
    },
    {
      "cell_type": "code",
      "metadata": {
        "colab": {
          "base_uri": "https://localhost:8080/"
        },
        "id": "4yDfq31G2luH",
        "outputId": "1c8a790f-83cb-45ef-c328-1033c9bf8d4e"
      },
      "source": [
        "from sklearn import datasets\r\n",
        "from sklearn.svm import SVC\r\n",
        "iris = datasets.load_iris()\r\n",
        "clf = SVC()\r\n",
        "clf.fit(iris.data, iris.target)\r\n",
        "\r\n",
        "\r\n",
        "first=list(clf.predict(iris.data[:3]))\r\n",
        "print(f\"first : {first} \")\r\n",
        "\r\n",
        "\r\n",
        "clf.fit(iris.data, iris.target_names[iris.target])\r\n",
        "second=list(clf.predict(iris.data[:3]))\r\n",
        "\r\n",
        "print(f\"second : {second} \")"
      ],
      "execution_count": 21,
      "outputs": [
        {
          "output_type": "stream",
          "text": [
            "first : [0, 0, 0] \n",
            "second : ['setosa', 'setosa', 'setosa'] \n"
          ],
          "name": "stdout"
        }
      ]
    },
    {
      "cell_type": "code",
      "metadata": {
        "colab": {
          "base_uri": "https://localhost:8080/"
        },
        "id": "OKDd37tT4TbO",
        "outputId": "329d2b04-4e09-4cd2-9176-71b223b2cf0c"
      },
      "source": [
        "import numpy as np\r\n",
        "from sklearn.datasets import load_iris\r\n",
        "from sklearn.svm import SVC\r\n",
        "X, y = load_iris(return_X_y=True)\r\n",
        "\r\n",
        "clf = SVC()\r\n",
        "clf.set_params(kernel='linear').fit(X, y)\r\n",
        "\r\n",
        "print(clf.predict(X[:5]))\r\n",
        "\r\n",
        "\r\n",
        "clf.set_params(kernel='rbf').fit(X, y)\r\n",
        "\r\n",
        "print(clf.predict(X[:5]))"
      ],
      "execution_count": 24,
      "outputs": [
        {
          "output_type": "stream",
          "text": [
            "[0 0 0 0 0]\n",
            "[0 0 0 0 0]\n"
          ],
          "name": "stdout"
        }
      ]
    },
    {
      "cell_type": "code",
      "metadata": {
        "colab": {
          "base_uri": "https://localhost:8080/"
        },
        "id": "hq2nLz4r72hJ",
        "outputId": "2bc966c8-2fd7-426a-8c63-cc38542c1312"
      },
      "source": [
        "from sklearn.svm import SVC\r\n",
        "from sklearn.multiclass import OneVsRestClassifier\r\n",
        "from sklearn.preprocessing import LabelBinarizer\r\n",
        "\r\n",
        "X = [[1, 2], [2, 4], [4, 5], [3, 2], [3, 1]]\r\n",
        "y = [0, 0, 1, 1, 2]\r\n",
        "\r\n",
        "classif = OneVsRestClassifier(estimator=SVC(random_state=0))\r\n",
        "print(f\"1D Array \\n {classif.fit(X, y).predict(X)}\")"
      ],
      "execution_count": 26,
      "outputs": [
        {
          "output_type": "stream",
          "text": [
            "1D Array \n",
            " [0 0 1 1 2]\n"
          ],
          "name": "stdout"
        }
      ]
    },
    {
      "cell_type": "code",
      "metadata": {
        "colab": {
          "base_uri": "https://localhost:8080/"
        },
        "id": "X896R9AY8AlH",
        "outputId": "37f8cc4a-c18b-4dc8-c29d-983dea1efbe1"
      },
      "source": [
        "y = LabelBinarizer().fit_transform(y)\r\n",
        "print(f\"2D Array \\n {classif.fit(X, y).predict(X)}\")"
      ],
      "execution_count": 28,
      "outputs": [
        {
          "output_type": "stream",
          "text": [
            "2D Array \n",
            " [[1 0 0]\n",
            " [1 0 0]\n",
            " [0 1 0]\n",
            " [0 0 0]\n",
            " [0 0 0]]\n"
          ],
          "name": "stdout"
        }
      ]
    },
    {
      "cell_type": "code",
      "metadata": {
        "colab": {
          "base_uri": "https://localhost:8080/"
        },
        "id": "0lM2OICU8_li",
        "outputId": "adba1119-7de5-438b-afde-91f66406e6ed"
      },
      "source": [
        "from sklearn.preprocessing import MultiLabelBinarizer\r\n",
        "y = [[0, 1], [0, 2], [1, 3], [0, 2, 3], [2, 4]]\r\n",
        "y = MultiLabelBinarizer().fit_transform(y)\r\n",
        "print(f\"2D Array with multiple predicted labels \\n {classif.fit(X, y).predict(X)}\")"
      ],
      "execution_count": 31,
      "outputs": [
        {
          "output_type": "stream",
          "text": [
            "2D Array with multiple predicted labels \n",
            " [[1 1 0 0 0]\n",
            " [1 0 1 0 0]\n",
            " [0 1 0 1 0]\n",
            " [1 0 1 0 0]\n",
            " [1 0 1 0 0]]\n"
          ],
          "name": "stdout"
        }
      ]
    },
    {
      "cell_type": "markdown",
      "metadata": {
        "id": "19gcFCCl8-71"
      },
      "source": [
        ""
      ]
    }
  ]
}